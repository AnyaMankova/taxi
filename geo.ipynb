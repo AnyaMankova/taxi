{
 "cells": [
  {
   "cell_type": "code",
   "execution_count": 23,
   "id": "86a1dcc6-b0c2-4af9-a63c-7a662d9af6a7",
   "metadata": {
    "tags": []
   },
   "outputs": [
    {
     "name": "stdout",
     "output_type": "stream",
     "text": [
      "          Date/Time      Lat      Lon    Base\n",
      "0  9/1/2014 0:01:00  40.2201 -74.0021  B02512\n",
      "1  9/1/2014 0:01:00  40.7500 -74.0027  B02512\n",
      "2  9/1/2014 0:03:00  40.7559 -73.9864  B02512\n",
      "3  9/1/2014 0:06:00  40.7450 -73.9889  B02512\n",
      "4  9/1/2014 0:11:00  40.8145 -73.9444  B02512\n",
      "{'B02617': 377695, 'B02598': 240600, 'B02682': 197138, 'B02764': 178333, 'B02512': 34370}\n"
     ]
    },
    {
     "data": {
      "text/plain": [
       "<Axes: >"
      ]
     },
     "execution_count": 23,
     "metadata": {},
     "output_type": "execute_result"
    },
    {
     "data": {
      "image/png": "[encoded data removed]",
      "text/plain": [
       "<Figure size 432x288 with 1 Axes>"
      ]
     },
     "metadata": {
      "needs_background": "light"
     },
     "output_type": "display_data"
    }
   ],
   "source": [
    "import pandas as pd\n",
    "import matplotlib.pyplot as plt\n",
    "import geopandas as gpd\n",
    "from shapely.geometry import Point\n",
    "\n",
    "\n",
    "uber_df = pd.read_csv(\"uber-raw-data-sep14.csv\")\n",
    "print(uber_df.head(5))\n",
    "\n",
    "#выделяю все станции Uber с количеством вызовов по каждой\n",
    "st_dct = uber_df['Base'].value_counts().to_dict()\n",
    "print(st_dct)\n",
    "\n",
    "\n",
    "#lat = uber_df['Lat'].values\n",
    "#lon = uber_df['Lon'].values\n",
    "\n",
    "\n",
    "#выношу все точки без деления на станции!!!\n",
    "loc_geom = [Point(xy) for xy in zip(uber_df['Lon'], uber_df['Lat'])]\n",
    "geo_df = gpd.GeoDataFrame(uber_df, crs='epsg:4326', geometry=loc_geom)\n",
    "# сейчас выносятся все точки в целом без деления на станции\n",
    "#нужно:\n",
    "# 1. отобразить карту нью йорка\n",
    "# 2. нанести точки в соответствии с каждой из баз выделить каждую новым цветом\n",
    "\n",
    "# Plot the GeoDataFrame\n",
    "geo_df.plot()\n"
   ]
  },
  {
   "cell_type": "code",
   "execution_count": null,
   "id": "6d83ba2e-946a-4d3e-8d71-3e68fb766b67",
   "metadata": {},
   "outputs": [],
   "source": []
  }
 ],
 "metadata": {
  "kernelspec": {
   "display_name": "Python 3 (ipykernel)",
   "language": "python",
   "name": "python3"
  },
  "language_info": {
   "codemirror_mode": {
    "name": "ipython",
    "version": 3
   },
   "file_extension": ".py",
   "mimetype": "text/x-python",
   "name": "python",
   "nbconvert_exporter": "python",
   "pygments_lexer": "ipython3",
   "version": "3.8.10"
  }
 },
 "nbformat": 4,
 "nbformat_minor": 5
}
