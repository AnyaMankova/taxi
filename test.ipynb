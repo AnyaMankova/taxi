{
 "cells": [
  {
   "cell_type": "code",
   "execution_count": 21,
   "id": "046bf9cd-3b60-42e0-a573-ec96a4f2de04",
   "metadata": {
    "tags": []
   },
   "outputs": [
    {
     "name": "stdout",
     "output_type": "stream",
     "text": [
      "          Date/Time      Lat      Lon    Base                    geometry\n",
      "0  9/1/2014 0:01:00  40.2201 -74.0021  B02512  POINT (-74.00210 40.22010)\n",
      "1  9/1/2014 0:01:00  40.7500 -74.0027  B02512  POINT (-74.00270 40.75000)\n",
      "2  9/1/2014 0:03:00  40.7559 -73.9864  B02512  POINT (-73.98640 40.75590)\n",
      "3  9/1/2014 0:06:00  40.7450 -73.9889  B02512  POINT (-73.98890 40.74500)\n",
      "4  9/1/2014 0:11:00  40.8145 -73.9444  B02512  POINT (-73.94440 40.81450)\n"
     ]
    },
    {
     "ename": "AttributeError",
     "evalue": "'Series' object has no attribute 'lower'",
     "output_type": "error",
     "traceback": [
      "\u001b[0;31m---------------------------------------------------------------------------\u001b[0m",
      "\u001b[0;31mAttributeError\u001b[0m                            Traceback (most recent call last)",
      "Input \u001b[0;32mIn [21]\u001b[0m, in \u001b[0;36m<cell line: 19>\u001b[0;34m()\u001b[0m\n\u001b[1;32m     17\u001b[0m grouped_stations_gdf \u001b[38;5;241m=\u001b[39m uber_gdf\u001b[38;5;241m.\u001b[39mgroupby(\u001b[38;5;124m'\u001b[39m\u001b[38;5;124mBase\u001b[39m\u001b[38;5;124m'\u001b[39m)\n\u001b[1;32m     18\u001b[0m \u001b[38;5;66;03m#print(grouped_stations_gdf.head(5)) # проверка, что группировка выполнена верно\u001b[39;00m\n\u001b[0;32m---> 19\u001b[0m st_dict \u001b[38;5;241m=\u001b[39m \u001b[43muber_df\u001b[49m\u001b[38;5;241;43m.\u001b[39;49m\u001b[43mto_dict\u001b[49m\u001b[43m(\u001b[49m\u001b[43muber_df\u001b[49m\u001b[43m[\u001b[49m\u001b[38;5;124;43m'\u001b[39;49m\u001b[38;5;124;43mBase\u001b[39;49m\u001b[38;5;124;43m'\u001b[39;49m\u001b[43m]\u001b[49m\u001b[43m)\u001b[49m\n\u001b[1;32m     20\u001b[0m \u001b[38;5;28mprint\u001b[39m(st_dict)\n\u001b[1;32m     22\u001b[0m \u001b[38;5;66;03m# Цвета для каждой группы\u001b[39;00m\n",
      "File \u001b[0;32m~/.local/lib/python3.8/site-packages/pandas/core/frame.py:1976\u001b[0m, in \u001b[0;36mDataFrame.to_dict\u001b[0;34m(self, orient, into)\u001b[0m\n\u001b[1;32m   1971\u001b[0m into_c \u001b[38;5;241m=\u001b[39m com\u001b[38;5;241m.\u001b[39mstandardize_mapping(into)\n\u001b[1;32m   1973\u001b[0m \u001b[38;5;66;03m#  error: Incompatible types in assignment (expression has type \"str\",\u001b[39;00m\n\u001b[1;32m   1974\u001b[0m \u001b[38;5;66;03m# variable has type \"Literal['dict', 'list', 'series', 'split', 'tight',\u001b[39;00m\n\u001b[1;32m   1975\u001b[0m \u001b[38;5;66;03m# 'records', 'index']\")\u001b[39;00m\n\u001b[0;32m-> 1976\u001b[0m orient \u001b[38;5;241m=\u001b[39m \u001b[43morient\u001b[49m\u001b[38;5;241;43m.\u001b[39;49m\u001b[43mlower\u001b[49m()  \u001b[38;5;66;03m# type: ignore[assignment]\u001b[39;00m\n\u001b[1;32m   1977\u001b[0m \u001b[38;5;66;03m# GH32515\u001b[39;00m\n\u001b[1;32m   1978\u001b[0m \u001b[38;5;28;01mif\u001b[39;00m orient\u001b[38;5;241m.\u001b[39mstartswith((\u001b[38;5;124m\"\u001b[39m\u001b[38;5;124md\u001b[39m\u001b[38;5;124m\"\u001b[39m, \u001b[38;5;124m\"\u001b[39m\u001b[38;5;124ml\u001b[39m\u001b[38;5;124m\"\u001b[39m, \u001b[38;5;124m\"\u001b[39m\u001b[38;5;124ms\u001b[39m\u001b[38;5;124m\"\u001b[39m, \u001b[38;5;124m\"\u001b[39m\u001b[38;5;124mr\u001b[39m\u001b[38;5;124m\"\u001b[39m, \u001b[38;5;124m\"\u001b[39m\u001b[38;5;124mi\u001b[39m\u001b[38;5;124m\"\u001b[39m)) \u001b[38;5;129;01mand\u001b[39;00m orient \u001b[38;5;129;01mnot\u001b[39;00m \u001b[38;5;129;01min\u001b[39;00m {\n\u001b[1;32m   1979\u001b[0m     \u001b[38;5;124m\"\u001b[39m\u001b[38;5;124mdict\u001b[39m\u001b[38;5;124m\"\u001b[39m,\n\u001b[1;32m   1980\u001b[0m     \u001b[38;5;124m\"\u001b[39m\u001b[38;5;124mlist\u001b[39m\u001b[38;5;124m\"\u001b[39m,\n\u001b[0;32m   (...)\u001b[0m\n\u001b[1;32m   1984\u001b[0m     \u001b[38;5;124m\"\u001b[39m\u001b[38;5;124mindex\u001b[39m\u001b[38;5;124m\"\u001b[39m,\n\u001b[1;32m   1985\u001b[0m }:\n",
      "File \u001b[0;32m~/.local/lib/python3.8/site-packages/pandas/core/generic.py:5902\u001b[0m, in \u001b[0;36mNDFrame.__getattr__\u001b[0;34m(self, name)\u001b[0m\n\u001b[1;32m   5895\u001b[0m \u001b[38;5;28;01mif\u001b[39;00m (\n\u001b[1;32m   5896\u001b[0m     name \u001b[38;5;129;01mnot\u001b[39;00m \u001b[38;5;129;01min\u001b[39;00m \u001b[38;5;28mself\u001b[39m\u001b[38;5;241m.\u001b[39m_internal_names_set\n\u001b[1;32m   5897\u001b[0m     \u001b[38;5;129;01mand\u001b[39;00m name \u001b[38;5;129;01mnot\u001b[39;00m \u001b[38;5;129;01min\u001b[39;00m \u001b[38;5;28mself\u001b[39m\u001b[38;5;241m.\u001b[39m_metadata\n\u001b[1;32m   5898\u001b[0m     \u001b[38;5;129;01mand\u001b[39;00m name \u001b[38;5;129;01mnot\u001b[39;00m \u001b[38;5;129;01min\u001b[39;00m \u001b[38;5;28mself\u001b[39m\u001b[38;5;241m.\u001b[39m_accessors\n\u001b[1;32m   5899\u001b[0m     \u001b[38;5;129;01mand\u001b[39;00m \u001b[38;5;28mself\u001b[39m\u001b[38;5;241m.\u001b[39m_info_axis\u001b[38;5;241m.\u001b[39m_can_hold_identifiers_and_holds_name(name)\n\u001b[1;32m   5900\u001b[0m ):\n\u001b[1;32m   5901\u001b[0m     \u001b[38;5;28;01mreturn\u001b[39;00m \u001b[38;5;28mself\u001b[39m[name]\n\u001b[0;32m-> 5902\u001b[0m \u001b[38;5;28;01mreturn\u001b[39;00m \u001b[38;5;28;43mobject\u001b[39;49m\u001b[38;5;241;43m.\u001b[39;49m\u001b[38;5;21;43m__getattribute__\u001b[39;49m\u001b[43m(\u001b[49m\u001b[38;5;28;43mself\u001b[39;49m\u001b[43m,\u001b[49m\u001b[43m \u001b[49m\u001b[43mname\u001b[49m\u001b[43m)\u001b[49m\n",
      "\u001b[0;31mAttributeError\u001b[0m: 'Series' object has no attribute 'lower'"
     ]
    }
   ],
   "source": [
    "import geopandas as gpd\n",
    "from shapely.geometry import Point\n",
    "\n",
    "\n",
    "uber_df = pd.read_csv(\"uber-raw-data-sep14.csv\")\n",
    "point_lst = [Point(xy) for xy in zip(uber_df['Lon'], uber_df['Lat'])]\n",
    "uber_gdf = gpd.GeoDataFrame(uber_df, crs='epsg:4326', geometry=point_lst)\n",
    "print(uber_gdf.head(5)) #смотрю, что добавилось поле geometry с точками\n",
    "\n",
    "#Нью-Йорк состоит из 5 округов: Бруклин, Квинс, Манхэттен, Бронкс и Статен-Айленд\n",
    "ny_gdf = gpd.read_file('ny') #считываю файл\n",
    "ny_gdf = ny_gdf.to_crs(4326) #изначально данные в формате wsg84, перевожу для сопоставления\n",
    "#ny_gdf.plot(figsize=(10, 10)) #вывожу карту на просмотр\n",
    "bounds = ny_gdf.total_bounds #вычисляю границы геодатафрейма ny_gdf \n",
    "\n",
    "# Группировка станций по идентификатору\n",
    "grouped_stations_gdf = uber_gdf.groupby('Base')\n",
    "#print(grouped_stations_gdf.head(5)) # проверка, что группировка выполнена верно\n",
    "st_dict = uber_df.to_dict(['Base'])\n",
    "print(st_dict)\n",
    "\n",
    "# Цвета для каждой группы\n",
    "colors = ['red', 'green', 'blue', 'purple', 'orange']\n",
    "\n",
    "# Отображаем каждую группу точек на своей картинке\n",
    "for i, (name, group) in enumerate(grouped_stations_gdf):\n",
    "    # Создаем новый объект figure и axes для каждой картинки\n",
    "    fig, ax = plt.subplots(figsize=(10, 10))\n",
    "    ax.set_xlim(bounds[0], bounds[2])\n",
    "    ax.set_ylim(bounds[1], bounds[3])\n",
    "    ny_gdf.plot(ax=ax, alpha=0.5, edgecolor='k')\n",
    "    color = colors[i % len(colors)]\n",
    "    group.plot(ax=ax, color=color, label=name, markersize=2)\n",
    "    ax.set_title(f'Uber stations for {name}')\n",
    "    plt.show()\n",
    "\n",
    "  "
   ]
  },
  {
   "cell_type": "code",
   "execution_count": null,
   "id": "189b3ec5-aeb5-4cb4-9551-5bb54f4d5313",
   "metadata": {},
   "outputs": [],
   "source": []
  },
  {
   "cell_type": "code",
   "execution_count": null,
   "id": "2945dff1-89fd-4afe-8b40-3638fff1e53b",
   "metadata": {},
   "outputs": [],
   "source": []
  }
 ],
 "metadata": {
  "kernelspec": {
   "display_name": "Python 3 (ipykernel)",
   "language": "python",
   "name": "python3"
  },
  "language_info": {
   "codemirror_mode": {
    "name": "ipython",
    "version": 3
   },
   "file_extension": ".py",
   "mimetype": "text/x-python",
   "name": "python",
   "nbconvert_exporter": "python",
   "pygments_lexer": "ipython3",
   "version": "3.8.10"
  }
 },
 "nbformat": 4,
 "nbformat_minor": 5
}
